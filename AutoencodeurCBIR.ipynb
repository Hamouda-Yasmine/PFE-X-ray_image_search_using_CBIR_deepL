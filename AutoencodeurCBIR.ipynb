{
  "cells": [
    {
      "cell_type": "markdown",
      "metadata": {
        "id": "view-in-github",
        "colab_type": "text"
      },
      "source": [
        "<a href=\"https://colab.research.google.com/github/Hamouda-Yasmine/PFE-X-ray_image_search_using_CBIR_deepL/blob/main/AutoencodeurCBIR.ipynb\" target=\"_parent\"><img src=\"https://colab.research.google.com/assets/colab-badge.svg\" alt=\"Open In Colab\"/></a>"
      ]
    },
    {
      "cell_type": "code",
      "execution_count": null,
      "metadata": {
        "id": "LEYwIe2AsCRl"
      },
      "outputs": [],
      "source": [
        "!nvidia-smi"
      ]
    },
    {
      "cell_type": "code",
      "execution_count": null,
      "metadata": {
        "id": "Uc5mWdXekslP"
      },
      "outputs": [],
      "source": [
        "import glob\n",
        "from itertools import chain\n",
        "import os\n",
        "import random\n",
        "import zipfile\n",
        "from tqdm.notebook import tqdm\n",
        "\n",
        "import matplotlib.pyplot as plt\n",
        "import numpy as np\n",
        "import pandas as pd\n",
        "from PIL import Image\n",
        "from sklearn.model_selection import train_test_split\n",
        "import cv2\n",
        "\n",
        "import torch\n",
        "import torch.nn as nn\n",
        "import torch.nn.functional as F\n",
        "import torch.optim as optim\n",
        "from torch.optim.lr_scheduler import StepLR, CosineAnnealingLR, ReduceLROnPlateau\n",
        "from torch.utils.data import DataLoader, Dataset\n",
        "from torchvision import datasets, transforms, models\n",
        "import torch\n",
        "\n",
        "import torchvision.transforms as T"
      ]
    },
    {
      "cell_type": "code",
      "execution_count": null,
      "metadata": {
        "id": "VXQMr_t2h9ir"
      },
      "outputs": [],
      "source": [
        "class FolderDataset(Dataset):\n",
        "    \"\"\"\n",
        "    Creates a PyTorch dataset from folder, returning two tensor images.\n",
        "    Args:\n",
        "    main_dir : directory where images are stored.\n",
        "    transform (optional) : torchvision transforms to be applied while making dataset\n",
        "    \"\"\"\n",
        "\n",
        "    def __init__(self, main_dir, transform=None):\n",
        "        self.main_dir = main_dir\n",
        "        self.transform = transform\n",
        "        self.all_imgs = os.listdir(main_dir)\n",
        "\n",
        "    def __len__(self):\n",
        "        return len(self.all_imgs)\n",
        "\n",
        "    def __getitem__(self, idx):\n",
        "        img_loc = os.path.join(self.main_dir, self.all_imgs[idx])\n",
        "        image = Image.open(img_loc).convert(\"RGB\")\n",
        "\n",
        "        if self.transform is not None:\n",
        "            tensor_image = self.transform(image)\n",
        "\n",
        "        return tensor_image, tensor_image"
      ]
    },
    {
      "cell_type": "code",
      "execution_count": null,
      "metadata": {
        "id": "xOMPNSwBoF_j"
      },
      "outputs": [],
      "source": [
        "class ConvEncoder(nn.Module):\n",
        "    def __init__(self):\n",
        "        super().__init__()\n",
        "        self.conv1 = nn.Conv2d(3, 16, (3, 3), padding=(1, 1))\n",
        "        self.relu1 = nn.ReLU(inplace=True)\n",
        "        self.maxpool1 = nn.MaxPool2d((2, 2))\n",
        "\n",
        "        self.conv2 = nn.Conv2d(16, 32, (3, 3), padding=(1, 1))\n",
        "        self.relu2 = nn.ReLU(inplace=True)\n",
        "        self.maxpool2 = nn.MaxPool2d((2, 2))\n",
        "\n",
        "        self.conv3 = nn.Conv2d(32, 64, (3, 3), padding=(1, 1))\n",
        "        self.relu3 = nn.ReLU(inplace=True)\n",
        "        self.maxpool3 = nn.MaxPool2d((2, 2))\n",
        "\n",
        "        self.conv4 = nn.Conv2d(64, 128, (3, 3), padding=(1, 1))\n",
        "        self.relu4 = nn.ReLU(inplace=True)\n",
        "        self.maxpool4 = nn.MaxPool2d((2, 2))\n",
        "\n",
        "        self.conv5 = nn.Conv2d(128, 256, (3, 3), padding=(1, 1))\n",
        "        self.relu5 = nn.ReLU(inplace=True)\n",
        "        self.maxpool5 = nn.MaxPool2d((2, 2))\n",
        "        #self.dropout=nn.Dropout(0.5)\n",
        "\n",
        "    def forward(self, x):\n",
        "        # Downscale the image with conv maxpool etc.\n",
        "        x = self.conv1(x)\n",
        "        x = self.relu1(x)\n",
        "        x = self.maxpool1(x)\n",
        "\n",
        "        x = self.conv2(x)\n",
        "        x = self.relu2(x)\n",
        "        x = self.maxpool2(x)\n",
        "\n",
        "        x = self.conv3(x)\n",
        "        x = self.relu3(x)\n",
        "        x = self.maxpool3(x)\n",
        "\n",
        "        x = self.conv4(x)\n",
        "        x = self.relu4(x)\n",
        "        x = self.maxpool4(x)\n",
        "\n",
        "        x = self.conv5(x)\n",
        "        x = self.relu5(x)\n",
        "        x = self.maxpool5(x)\n",
        "        #x =self.dropout(x)\n",
        "\n",
        "        return x"
      ]
    },
    {
      "cell_type": "code",
      "execution_count": null,
      "metadata": {
        "id": "kYkIuK0koLCk"
      },
      "outputs": [],
      "source": [
        "class ConvDecoder(nn.Module):\n",
        "    def __init__(self):\n",
        "        super().__init__()\n",
        "        self.deconv1 = nn.ConvTranspose2d(256, 128, (2, 2), stride=(2, 2))\n",
        "        self.relu1 = nn.ReLU(inplace=True)\n",
        "\n",
        "        self.deconv2 = nn.ConvTranspose2d(128, 64, (2, 2), stride=(2, 2))\n",
        "        self.relu2 = nn.ReLU(inplace=True)\n",
        "\n",
        "        self.deconv3 = nn.ConvTranspose2d(64, 32, (2, 2), stride=(2, 2))\n",
        "        self.relu3 = nn.ReLU(inplace=True)\n",
        "\n",
        "        self.deconv4 = nn.ConvTranspose2d(32, 16, (2, 2), stride=(2, 2))\n",
        "        self.relu4 = nn.ReLU(inplace=True)\n",
        "\n",
        "        self.deconv5 = nn.ConvTranspose2d(16, 3, (2, 2), stride=(2, 2))\n",
        "        self.relu5 = nn.ReLU(inplace=True)\n",
        "\n",
        "    def forward(self, x):\n",
        "         # Upscale the image with convtranspose etc.\n",
        "        x = self.deconv1(x)\n",
        "        x = self.relu1(x)\n",
        "\n",
        "        x = self.deconv2(x)\n",
        "        x = self.relu2(x)\n",
        "\n",
        "        x = self.deconv3(x)\n",
        "        x = self.relu3(x)\n",
        "\n",
        "        x = self.deconv4(x)\n",
        "        x = self.relu4(x)\n",
        "\n",
        "        x = self.deconv5(x)\n",
        "        x = self.relu5(x)\n",
        "        return x"
      ]
    },
    {
      "cell_type": "code",
      "execution_count": null,
      "metadata": {
        "id": "EgJgLZtDt2GN"
      },
      "outputs": [],
      "source": [
        "\n",
        "def train_step(encoder, decoder, train_loader, loss_fn, optimizer, device):\n",
        "    \"\"\"\n",
        "    Performs a single training step\n",
        "    Args:\n",
        "    encoder: A convolutional Encoder. E.g. torch_model ConvEncoder\n",
        "    decoder: A convolutional Decoder. E.g. torch_model ConvDecoder\n",
        "    train_loader: PyTorch dataloader, containing (images, images).\n",
        "    loss_fn: PyTorch loss_fn, computes loss between 2 images.\n",
        "    optimizer: PyTorch optimizer.\n",
        "    device: \"cuda\" or \"cpu\"\n",
        "    Returns: Train Loss\n",
        "    \"\"\"\n",
        "    #  Set networks to train mode.\n",
        "    encoder.train()\n",
        "    decoder.train()\n",
        "\n",
        "    for batch_idx, (train_img, target_img) in enumerate(train_loader):\n",
        "        # Move images to device\n",
        "        train_img = train_img.to(device)\n",
        "        target_img = target_img.to(device)\n",
        "\n",
        "        # Zero grad the optimizer\n",
        "        optimizer.zero_grad()\n",
        "        # Feed the train images to encoder\n",
        "        enc_output = encoder(train_img)\n",
        "        # The output of encoder is input to decoder !\n",
        "        dec_output = decoder(enc_output)\n",
        "\n",
        "        # Decoder output is reconstructed image\n",
        "        # Compute loss with it and orginal image which is target image.\n",
        "        loss = loss_fn(dec_output, target_img)\n",
        "        # Backpropogate\n",
        "        loss.backward()\n",
        "        # Apply the optimizer to network by calling step.\n",
        "        optimizer.step()\n",
        "    # Return the loss\n",
        "    return loss.item()\n",
        "\n",
        "def val_step(encoder, decoder, val_loader, loss_fn, device):\n",
        "    \"\"\"\n",
        "    Performs a single training step\n",
        "    Args:\n",
        "    encoder: A convolutional Encoder. E.g. torch_model ConvEncoder\n",
        "    decoder: A convolutional Decoder. E.g. torch_model ConvDecoder\n",
        "    val_loader: PyTorch dataloader, containing (images, images).\n",
        "    loss_fn: PyTorch loss_fn, computes loss between 2 images.\n",
        "    device: \"cuda\" or \"cpu\"\n",
        "    Returns: Validation Loss\n",
        "    \"\"\"\n",
        "\n",
        "    # Set to eval mode.\n",
        "    encoder.eval()\n",
        "    decoder.eval()\n",
        "\n",
        "    # We don't need to compute gradients while validating.\n",
        "    with torch.no_grad():\n",
        "        for batch_idx, (train_img, target_img) in enumerate(val_loader):\n",
        "            # Move to device\n",
        "            train_img = train_img.to(device)\n",
        "            target_img = target_img.to(device)\n",
        "\n",
        "            # Again as train. Feed encoder the train image.\n",
        "            enc_output = encoder(train_img)\n",
        "            # Decoder takes encoder output and reconstructs the image.\n",
        "            dec_output = decoder(enc_output)\n",
        "\n",
        "            # Validation loss for encoder and decoder.\n",
        "            loss = loss_fn(dec_output, target_img)\n",
        "    # Return the loss\n",
        "    return loss.item()"
      ]
    },
    {
      "cell_type": "code",
      "execution_count": null,
      "metadata": {
        "id": "W02_8OsCoUVk",
        "colab": {
          "base_uri": "https://localhost:8080/"
        },
        "outputId": "9be5b49d-ed86-47d1-b8e8-dfb2aa0f7f77"
      },
      "outputs": [
        {
          "output_type": "stream",
          "name": "stdout",
          "text": [
            "12941\n",
            "12941\n",
            "10352\n",
            "2589\n"
          ]
        }
      ],
      "source": [
        "transforms = T.Compose([T.ToTensor()]) # Normalize the pixels and convert to tensor.\n",
        "\"\"\"transforms = T.Compose([\n",
        "    T.Resize((224,224)),\n",
        "    T.RandomHorizontalFlip(),\n",
        "    T.ToTensor(),\n",
        "    T.Normalize((0.4914, 0.4822, 0.4465), (0.2023, 0.1994, 0.2010)),\n",
        "])\n",
        "transforms = T.Compose([\n",
        "    T.Resize(256),\n",
        "    T.CenterCrop(224),\n",
        "    T.ToTensor(),\n",
        "    T.Normalize(mean=[0.485, 0.456, 0.406], std=[0.229, 0.224, 0.225]),\n",
        "])\"\"\"\n",
        "full_dataset=FolderDataset(\"/content/drive/MyDrive/IRMA/train/\",transforms)\n",
        "print(len(full_dataset))\n",
        "train_size=int(0.80* len(full_dataset))\n",
        "val_size=len(full_dataset)-train_size\n",
        "#train_size = 0.75\n",
        "#val_size = 1 - train_size\n",
        "\n",
        "# Split data to train and test\n",
        "train_dataset, val_dataset = torch.utils.data.random_split(full_dataset, [train_size, val_size])\n",
        "print(len(train_dataset)+len(val_dataset))\n",
        "\n",
        "\n",
        "# Create the train dataloader\n",
        "train_loader = torch.utils.data.DataLoader(train_dataset, batch_size=22, shuffle=True)\n",
        "\n",
        "print(len(train_dataset))\n",
        "# Create the validation dataloader\n",
        "val_loader = torch.utils.data.DataLoader(val_dataset, batch_size=22)\n",
        "print(len(val_dataset))\n",
        "\n",
        "# Create the full dataloader\n",
        "full_loader = torch.utils.data.DataLoader(full_dataset, batch_size=20)\n",
        "\n"
      ]
    },
    {
      "cell_type": "code",
      "execution_count": null,
      "metadata": {
        "id": "lTCuxCEwr5HW"
      },
      "outputs": [],
      "source": [
        "loss_fn = nn.MSELoss() # We use Mean squared loss which computes difference between two images.\n",
        "encoder = ConvEncoder() # Our encoder model\n",
        "decoder = ConvDecoder() # Our decoder model\n",
        "device = \"cuda\"\n",
        "encoder.to(device)\n",
        "decoder.to(device)\n",
        "autoencoder_params = list(encoder.parameters()) + list(decoder.parameters())\n",
        "optimizer = optimizer = torch.optim.SGD(autoencoder_params, lr=0.1, momentum=0.9) # SGD Optimizer"
      ]
    },
    {
      "cell_type": "code",
      "execution_count": null,
      "metadata": {
        "colab": {
          "base_uri": "https://localhost:8080/"
        },
        "id": "Ocq8zBLSSroL",
        "outputId": "dec78373-ec36-4f99-e72b-c75e2e95c7c5"
      },
      "outputs": [
        {
          "name": "stdout",
          "output_type": "stream",
          "text": [
            "----------------------------------------------------------------\n",
            "        Layer (type)               Output Shape         Param #\n",
            "================================================================\n",
            "            Conv2d-1         [-1, 16, 512, 256]             448\n",
            "              ReLU-2         [-1, 16, 512, 256]               0\n",
            "         MaxPool2d-3         [-1, 16, 256, 128]               0\n",
            "            Conv2d-4         [-1, 32, 256, 128]           4,640\n",
            "              ReLU-5         [-1, 32, 256, 128]               0\n",
            "         MaxPool2d-6          [-1, 32, 128, 64]               0\n",
            "            Conv2d-7          [-1, 64, 128, 64]          18,496\n",
            "              ReLU-8          [-1, 64, 128, 64]               0\n",
            "         MaxPool2d-9           [-1, 64, 64, 32]               0\n",
            "           Conv2d-10          [-1, 128, 64, 32]          73,856\n",
            "             ReLU-11          [-1, 128, 64, 32]               0\n",
            "        MaxPool2d-12          [-1, 128, 32, 16]               0\n",
            "           Conv2d-13          [-1, 256, 32, 16]         295,168\n",
            "             ReLU-14          [-1, 256, 32, 16]               0\n",
            "        MaxPool2d-15           [-1, 256, 16, 8]               0\n",
            "================================================================\n",
            "Total params: 392,608\n",
            "Trainable params: 392,608\n",
            "Non-trainable params: 0\n",
            "----------------------------------------------------------------\n",
            "Input size (MB): 1.50\n",
            "Forward/backward pass size (MB): 69.75\n",
            "Params size (MB): 1.50\n",
            "Estimated Total Size (MB): 72.75\n",
            "----------------------------------------------------------------\n"
          ]
        }
      ],
      "source": [
        "from torchsummary import summary\n",
        "summary(encoder,(3, 512, 256))"
      ]
    },
    {
      "cell_type": "code",
      "execution_count": null,
      "metadata": {
        "colab": {
          "base_uri": "https://localhost:8080/",
          "height": 396,
          "referenced_widgets": [
            "939eadfbaf214b83b57cde29d777d134",
            "40b80a93ce3241ac98ddf6f21bcaccf0",
            "9966a149b9134abcb3dde6272faf520a",
            "6f55d778b54b4cb68a7250760cb9edcb",
            "9760cdb54b164edc9cb88d5ccd1674dc",
            "7ec4ea181d4646f1a95b52348b51faa3",
            "7a72f1be5666475c9f71f85219accae4",
            "92fde42544a34fb2a1c94dd85ca15f1f",
            "5b490d61f5c343d7b8530ca908a9db95",
            "1d6657122bb147b9ab092490ebcf982a",
            "f585fc7276274786ac2956c0a4ad439d"
          ]
        },
        "id": "wo8IC8UFr_4T",
        "outputId": "c062ba80-b6f1-4efa-d277-ab1e13627bca"
      },
      "outputs": [
        {
          "output_type": "display_data",
          "data": {
            "text/plain": [
              "  0%|          | 0/6 [00:00<?, ?it/s]"
            ],
            "application/vnd.jupyter.widget-view+json": {
              "version_major": 2,
              "version_minor": 0,
              "model_id": "939eadfbaf214b83b57cde29d777d134"
            }
          },
          "metadata": {}
        },
        {
          "output_type": "stream",
          "name": "stdout",
          "text": [
            "Epochs = 0, Training Loss : 0.17872221767902374\n",
            "Epochs = 0, Validation Loss : 0.16518794000148773\n",
            "Validation Loss decreased, saving new best model\n",
            "dkhaal\n",
            "Epochs = 1, Training Loss : 0.18129834532737732\n",
            "Epochs = 1, Validation Loss : 0.16518782079219818\n",
            "Validation Loss decreased, saving new best model\n",
            "dkhaal\n",
            "Epochs = 2, Training Loss : 0.185751810669899\n",
            "Epochs = 2, Validation Loss : 0.16508479416370392\n",
            "Validation Loss decreased, saving new best model\n",
            "dkhaal\n",
            "Epochs = 3, Training Loss : 0.20731687545776367\n",
            "Epochs = 3, Validation Loss : 0.1647532880306244\n",
            "Validation Loss decreased, saving new best model\n",
            "dkhaal\n",
            "Epochs = 4, Training Loss : 0.1762389987707138\n",
            "Epochs = 4, Validation Loss : 0.16652119159698486\n",
            "Epochs = 5, Training Loss : 0.19068633019924164\n",
            "Epochs = 5, Validation Loss : 0.1650882512331009\n"
          ]
        }
      ],
      "source": [
        "EPOCHS =6\n",
        "max_loss=9999\n",
        "for epoch in tqdm(range(EPOCHS)):\n",
        "        train_loss = train_step(encoder, decoder, train_loader, loss_fn, optimizer, device=device)\n",
        "        print(f\"Epochs = {epoch}, Training Loss : {train_loss}\")\n",
        "        val_loss = val_step(encoder, decoder, val_loader, loss_fn, device=device)\n",
        "        print(f\"Epochs = {epoch}, Validation Loss : {val_loss}\")\n",
        "        if val_loss < max_loss:\n",
        "            print(\"Validation Loss decreased, saving new best model\")\n",
        "            torch.save(encoder.state_dict(), \"encoder_model_irmaASGD1.pt\")\n",
        "            torch.save(decoder.state_dict(), \"decoder_model_irmaASGD1.pt\")\n",
        "            max_loss=val_loss"
      ]
    },
    {
      "cell_type": "code",
      "execution_count": null,
      "metadata": {
        "colab": {
          "base_uri": "https://localhost:8080/"
        },
        "id": "f0goRw3WgsnD",
        "outputId": "f44aee3e-0f12-4741-81ac-11aaeee4e06d"
      },
      "outputs": [
        {
          "name": "stdout",
          "output_type": "stream",
          "text": [
            "12941\n"
          ]
        }
      ],
      "source": [
        "#full_dataset=FolderDataset(\"/content/drive/MyDrive/PFE/alldata/\",transforms)\n",
        "full_loader=torch.load('/content/drive/MyDrive/3e-4 sgd/fullloaderirma3E-4.pth')\n",
        "#torch.save(full_loader, 'fulldataloader.pth')\n",
        "print(len(full_loader.dataset.all_imgs))"
      ]
    },
    {
      "cell_type": "code",
      "execution_count": null,
      "metadata": {
        "id": "irGhkojljMJD"
      },
      "outputs": [],
      "source": [
        "torch.save(full_loader, 'fullloaderirma1.pth')"
      ]
    },
    {
      "cell_type": "code",
      "execution_count": null,
      "metadata": {
        "id": "IQVTrIJjIS61"
      },
      "outputs": [],
      "source": [
        "def create_embedding(encoder, full_loader, embedding_dim, device):\n",
        "    \"\"\"\n",
        "    Creates embedding using encoder from dataloader.\n",
        "    encoder: A convolutional Encoder. E.g. torch_model ConvEncoder\n",
        "    full_loader: PyTorch dataloader, containing (images, images) over entire dataset.\n",
        "    embedding_dim: Tuple (c, h, w) Dimension of embedding = output of encoder dimesntions.\n",
        "    device: \"cuda\" or \"cpu\"\n",
        "    Returns: Embedding of size (num_images_in_loader + 1, c, h, w)\n",
        "    \"\"\"\n",
        "    # Set encoder to eval mode.\n",
        "    encoder.eval()\n",
        "    # Just a place holder for our 0th image embedding.\n",
        "    embedding = torch.randn(embedding_dim)\n",
        "\n",
        "    # Again we do not compute loss here so. No gradients.\n",
        "    with torch.no_grad():\n",
        "        for batch_idx, (train_img, target_img) in enumerate(full_loader):\n",
        "            # We can compute this on GPU. be faster\n",
        "            train_img = train_img.to(device)\n",
        "            print(batch_idx)\n",
        "\n",
        "            # Get encoder outputs and move outputs to cpu\n",
        "            enc_output = encoder(train_img).cpu()\n",
        "            # Keep adding these outputs to embeddings.\n",
        "            embedding = torch.cat((embedding, enc_output), 0)\n",
        "\n",
        "    # Return the embeddings\n",
        "    return embedding"
      ]
    },
    {
      "cell_type": "code",
      "execution_count": null,
      "metadata": {
        "id": "qfuTScEqIOQI"
      },
      "outputs": [],
      "source": [
        "# Save the feature representations.\n",
        "EMBEDDING_SHAPE = (1, 256, 8, 16) # This we know from our encoder\n",
        "\n",
        "# We need feature representations for complete dataset not just train and validation.\n",
        "# Hence we use full loader here.\n",
        "ENCODER_MODEL_PATH = \"/content/encoder_model_irmaASGD6.pt\"\n",
        "device = torch.device(\"cuda\")\n",
        "encoder =ConvEncoder()\n",
        "print (device)\n",
        "# Load the state dict of encoder\n",
        "encoder.load_state_dict(torch.load(ENCODER_MODEL_PATH, map_location=device))\n",
        "encoder.eval()\n",
        "encoder.to(device)\n",
        "embedding = create_embedding(encoder, full_loader, EMBEDDING_SHAPE, device)\n",
        "\n",
        "# Convert embedding to numpy and save them\n",
        "numpy_embedding = embedding.cpu().detach().numpy()\n",
        "num_images = numpy_embedding.shape[0]\n",
        "\n",
        "# Save the embeddings for complete dataset, not just train\n",
        "flattened_embedding = numpy_embedding.reshape((num_images, -1))\n",
        "np.save(\"data_embedding_SGD-IRMA-6.npy\", flattened_embedding)\n"
      ]
    },
    {
      "cell_type": "code",
      "source": [
        "embedding = create_embedding(encoder, full_loader, EMBEDDING_SHAPE, device)\n",
        "numpy_embedding = embedding.cpu().detach().numpy()\n",
        "num_images = numpy_embedding.shape[0]\n",
        "flattened_embedding = numpy_embedding.reshape((num_images, -1))\n",
        "np.save(\"data_embedding_SGD-IRMA-6.npy\", flattened_embedding)"
      ],
      "metadata": {
        "id": "lCBBbYaih-RG"
      },
      "execution_count": null,
      "outputs": []
    },
    {
      "cell_type": "code",
      "execution_count": null,
      "metadata": {
        "id": "NusPlM69SMrX"
      },
      "outputs": [],
      "source": [
        "import torch\n",
        "import numpy as np\n",
        "\n",
        "from sklearn.neighbors import NearestNeighbors\n",
        "import torchvision.transforms as T\n",
        "import os\n",
        "from PIL import Image\n",
        "import matplotlib.pyplot as plt\n",
        "%matplotlib inline\n",
        "def compute_similar_images(image_path, num_images, embedding, device):\n",
        "    image_tensor = load_image_tensor(image_path, device)\n",
        "    # image_tensor = image_tensor.to(device)\n",
        "\n",
        "    with torch.no_grad():\n",
        "        image_embedding = encoder(image_tensor).cpu().detach().numpy()\n",
        "\n",
        "    #print(image_embedding.shape)\n",
        "\n",
        "    flattened_embedding = image_embedding.reshape((image_embedding.shape[0], -1))\n",
        "    print(flattened_embedding.shape)\n",
        "\n",
        "    knn = NearestNeighbors(n_neighbors=num_images, metric=\"correlation\")\n",
        "    knn.fit(embedding)\n",
        "\n",
        "    x, indices = knn.kneighbors(flattened_embedding)\n",
        "    indices_list = indices.tolist()\n",
        "    print(indices_list)\n",
        "    return indices_list"
      ]
    },
    {
      "cell_type": "code",
      "execution_count": null,
      "metadata": {
        "colab": {
          "base_uri": "https://localhost:8080/"
        },
        "id": "v3YR0XyNTyL8",
        "outputId": "91813f05-33a8-4530-92f1-d250efd40946"
      },
      "outputs": [
        {
          "name": "stdout",
          "output_type": "stream",
          "text": [
            "(12942, 256, 8, 16)\n",
            "12942\n",
            "(12942, 32768)\n"
          ]
        }
      ],
      "source": [
        "numpy_embedding = embedding.cpu().detach().numpy()\n",
        "print(numpy_embedding.shape)\n",
        "num_images = numpy_embedding.shape[0]\n",
        "print(num_images)\n",
        "flattened_embedding = numpy_embedding.reshape((num_images, -1))\n",
        "print(flattened_embedding.shape)"
      ]
    },
    {
      "cell_type": "code",
      "execution_count": null,
      "metadata": {
        "id": "qgYA8l_hUb6n"
      },
      "outputs": [],
      "source": [
        "import numpy as np\n",
        "np.save(\"data_embedding_f.npy_sgd_irma\", flattened_embedding)"
      ]
    },
    {
      "cell_type": "code",
      "execution_count": null,
      "metadata": {
        "colab": {
          "base_uri": "https://localhost:8080/"
        },
        "id": "HNsgXjLAU4Um",
        "outputId": "b531d29c-5cf4-4ad3-e9a4-fe78df1e7fbb"
      },
      "outputs": [
        {
          "name": "stdout",
          "output_type": "stream",
          "text": [
            "cuda\n"
          ]
        }
      ],
      "source": [
        "device = torch.device(\"cuda\") if torch.cuda.is_available() else torch.device(\"cpu\")\n",
        "print(device)\n",
        "def load_image_tensor(image_path, device):\n",
        "    image_tensor = T.ToTensor()(Image.open(image_path).convert('RGB'))\n",
        "    image_tensor = image_tensor.unsqueeze(0)\n",
        "    print(image_tensor.shape)\n",
        "    # input_images = image_tensor.to(device)\n",
        "    return image_tensor"
      ]
    },
    {
      "cell_type": "code",
      "execution_count": null,
      "metadata": {
        "id": "-AgaHtJUWBN1"
      },
      "outputs": [],
      "source": [
        "\n",
        "def plot_similar_images(indices_list):\n",
        "    indices = indices_list[0]\n",
        "    for index in indices:\n",
        "        img_name = str(index - 1) + \".png\"\n",
        "        img_path = os.path.join(\"/content/dataset/\" + img_name)\n",
        "        print(img_path)\n",
        "        img = Image.open(img_path).convert(\"RGB\")\n",
        "        plt.imshow(img)\n",
        "        plt.show()"
      ]
    },
    {
      "cell_type": "code",
      "execution_count": null,
      "metadata": {
        "id": "YKUp6OMIYVNm"
      },
      "outputs": [],
      "source": [
        "device = torch.device(\"cuda\") if torch.cuda.is_available() else torch.device(\"cpu\")\n",
        "encoder =ConvEncoder()\n",
        "\n",
        "# Load the state dict of encoder\n",
        "encoder.load_state_dict(torch.load(ENCODER_MODEL_PATH, map_location=device))\n",
        "encoder.eval()\n",
        "encoder.to(device)\n",
        "\n",
        "# Loads the embedding\n",
        "embedding = np.load(EMBEDDING_PATH)\n",
        "\n",
        "indices_list = compute_similar_images(TEST_IMAGE_PATH, NUM_IMAGES, embedding, device)\n",
        "plot_similar_images(indices_list)"
      ]
    }
  ],
  "metadata": {
    "colab": {
      "provenance": [],
      "include_colab_link": true
    },
    "kernelspec": {
      "display_name": "Python 3",
      "name": "python3"
    },
    "language_info": {
      "name": "python"
    },
    "widgets": {
      "application/vnd.jupyter.widget-state+json": {
        "939eadfbaf214b83b57cde29d777d134": {
          "model_module": "@jupyter-widgets/controls",
          "model_name": "HBoxModel",
          "model_module_version": "1.5.0",
          "state": {
            "_dom_classes": [],
            "_model_module": "@jupyter-widgets/controls",
            "_model_module_version": "1.5.0",
            "_model_name": "HBoxModel",
            "_view_count": null,
            "_view_module": "@jupyter-widgets/controls",
            "_view_module_version": "1.5.0",
            "_view_name": "HBoxView",
            "box_style": "",
            "children": [
              "IPY_MODEL_40b80a93ce3241ac98ddf6f21bcaccf0",
              "IPY_MODEL_9966a149b9134abcb3dde6272faf520a",
              "IPY_MODEL_6f55d778b54b4cb68a7250760cb9edcb"
            ],
            "layout": "IPY_MODEL_9760cdb54b164edc9cb88d5ccd1674dc"
          }
        },
        "40b80a93ce3241ac98ddf6f21bcaccf0": {
          "model_module": "@jupyter-widgets/controls",
          "model_name": "HTMLModel",
          "model_module_version": "1.5.0",
          "state": {
            "_dom_classes": [],
            "_model_module": "@jupyter-widgets/controls",
            "_model_module_version": "1.5.0",
            "_model_name": "HTMLModel",
            "_view_count": null,
            "_view_module": "@jupyter-widgets/controls",
            "_view_module_version": "1.5.0",
            "_view_name": "HTMLView",
            "description": "",
            "description_tooltip": null,
            "layout": "IPY_MODEL_7ec4ea181d4646f1a95b52348b51faa3",
            "placeholder": "​",
            "style": "IPY_MODEL_7a72f1be5666475c9f71f85219accae4",
            "value": "100%"
          }
        },
        "9966a149b9134abcb3dde6272faf520a": {
          "model_module": "@jupyter-widgets/controls",
          "model_name": "FloatProgressModel",
          "model_module_version": "1.5.0",
          "state": {
            "_dom_classes": [],
            "_model_module": "@jupyter-widgets/controls",
            "_model_module_version": "1.5.0",
            "_model_name": "FloatProgressModel",
            "_view_count": null,
            "_view_module": "@jupyter-widgets/controls",
            "_view_module_version": "1.5.0",
            "_view_name": "ProgressView",
            "bar_style": "success",
            "description": "",
            "description_tooltip": null,
            "layout": "IPY_MODEL_92fde42544a34fb2a1c94dd85ca15f1f",
            "max": 6,
            "min": 0,
            "orientation": "horizontal",
            "style": "IPY_MODEL_5b490d61f5c343d7b8530ca908a9db95",
            "value": 6
          }
        },
        "6f55d778b54b4cb68a7250760cb9edcb": {
          "model_module": "@jupyter-widgets/controls",
          "model_name": "HTMLModel",
          "model_module_version": "1.5.0",
          "state": {
            "_dom_classes": [],
            "_model_module": "@jupyter-widgets/controls",
            "_model_module_version": "1.5.0",
            "_model_name": "HTMLModel",
            "_view_count": null,
            "_view_module": "@jupyter-widgets/controls",
            "_view_module_version": "1.5.0",
            "_view_name": "HTMLView",
            "description": "",
            "description_tooltip": null,
            "layout": "IPY_MODEL_1d6657122bb147b9ab092490ebcf982a",
            "placeholder": "​",
            "style": "IPY_MODEL_f585fc7276274786ac2956c0a4ad439d",
            "value": " 6/6 [09:46&lt;00:00, 97.54s/it]"
          }
        },
        "9760cdb54b164edc9cb88d5ccd1674dc": {
          "model_module": "@jupyter-widgets/base",
          "model_name": "LayoutModel",
          "model_module_version": "1.2.0",
          "state": {
            "_model_module": "@jupyter-widgets/base",
            "_model_module_version": "1.2.0",
            "_model_name": "LayoutModel",
            "_view_count": null,
            "_view_module": "@jupyter-widgets/base",
            "_view_module_version": "1.2.0",
            "_view_name": "LayoutView",
            "align_content": null,
            "align_items": null,
            "align_self": null,
            "border": null,
            "bottom": null,
            "display": null,
            "flex": null,
            "flex_flow": null,
            "grid_area": null,
            "grid_auto_columns": null,
            "grid_auto_flow": null,
            "grid_auto_rows": null,
            "grid_column": null,
            "grid_gap": null,
            "grid_row": null,
            "grid_template_areas": null,
            "grid_template_columns": null,
            "grid_template_rows": null,
            "height": null,
            "justify_content": null,
            "justify_items": null,
            "left": null,
            "margin": null,
            "max_height": null,
            "max_width": null,
            "min_height": null,
            "min_width": null,
            "object_fit": null,
            "object_position": null,
            "order": null,
            "overflow": null,
            "overflow_x": null,
            "overflow_y": null,
            "padding": null,
            "right": null,
            "top": null,
            "visibility": null,
            "width": null
          }
        },
        "7ec4ea181d4646f1a95b52348b51faa3": {
          "model_module": "@jupyter-widgets/base",
          "model_name": "LayoutModel",
          "model_module_version": "1.2.0",
          "state": {
            "_model_module": "@jupyter-widgets/base",
            "_model_module_version": "1.2.0",
            "_model_name": "LayoutModel",
            "_view_count": null,
            "_view_module": "@jupyter-widgets/base",
            "_view_module_version": "1.2.0",
            "_view_name": "LayoutView",
            "align_content": null,
            "align_items": null,
            "align_self": null,
            "border": null,
            "bottom": null,
            "display": null,
            "flex": null,
            "flex_flow": null,
            "grid_area": null,
            "grid_auto_columns": null,
            "grid_auto_flow": null,
            "grid_auto_rows": null,
            "grid_column": null,
            "grid_gap": null,
            "grid_row": null,
            "grid_template_areas": null,
            "grid_template_columns": null,
            "grid_template_rows": null,
            "height": null,
            "justify_content": null,
            "justify_items": null,
            "left": null,
            "margin": null,
            "max_height": null,
            "max_width": null,
            "min_height": null,
            "min_width": null,
            "object_fit": null,
            "object_position": null,
            "order": null,
            "overflow": null,
            "overflow_x": null,
            "overflow_y": null,
            "padding": null,
            "right": null,
            "top": null,
            "visibility": null,
            "width": null
          }
        },
        "7a72f1be5666475c9f71f85219accae4": {
          "model_module": "@jupyter-widgets/controls",
          "model_name": "DescriptionStyleModel",
          "model_module_version": "1.5.0",
          "state": {
            "_model_module": "@jupyter-widgets/controls",
            "_model_module_version": "1.5.0",
            "_model_name": "DescriptionStyleModel",
            "_view_count": null,
            "_view_module": "@jupyter-widgets/base",
            "_view_module_version": "1.2.0",
            "_view_name": "StyleView",
            "description_width": ""
          }
        },
        "92fde42544a34fb2a1c94dd85ca15f1f": {
          "model_module": "@jupyter-widgets/base",
          "model_name": "LayoutModel",
          "model_module_version": "1.2.0",
          "state": {
            "_model_module": "@jupyter-widgets/base",
            "_model_module_version": "1.2.0",
            "_model_name": "LayoutModel",
            "_view_count": null,
            "_view_module": "@jupyter-widgets/base",
            "_view_module_version": "1.2.0",
            "_view_name": "LayoutView",
            "align_content": null,
            "align_items": null,
            "align_self": null,
            "border": null,
            "bottom": null,
            "display": null,
            "flex": null,
            "flex_flow": null,
            "grid_area": null,
            "grid_auto_columns": null,
            "grid_auto_flow": null,
            "grid_auto_rows": null,
            "grid_column": null,
            "grid_gap": null,
            "grid_row": null,
            "grid_template_areas": null,
            "grid_template_columns": null,
            "grid_template_rows": null,
            "height": null,
            "justify_content": null,
            "justify_items": null,
            "left": null,
            "margin": null,
            "max_height": null,
            "max_width": null,
            "min_height": null,
            "min_width": null,
            "object_fit": null,
            "object_position": null,
            "order": null,
            "overflow": null,
            "overflow_x": null,
            "overflow_y": null,
            "padding": null,
            "right": null,
            "top": null,
            "visibility": null,
            "width": null
          }
        },
        "5b490d61f5c343d7b8530ca908a9db95": {
          "model_module": "@jupyter-widgets/controls",
          "model_name": "ProgressStyleModel",
          "model_module_version": "1.5.0",
          "state": {
            "_model_module": "@jupyter-widgets/controls",
            "_model_module_version": "1.5.0",
            "_model_name": "ProgressStyleModel",
            "_view_count": null,
            "_view_module": "@jupyter-widgets/base",
            "_view_module_version": "1.2.0",
            "_view_name": "StyleView",
            "bar_color": null,
            "description_width": ""
          }
        },
        "1d6657122bb147b9ab092490ebcf982a": {
          "model_module": "@jupyter-widgets/base",
          "model_name": "LayoutModel",
          "model_module_version": "1.2.0",
          "state": {
            "_model_module": "@jupyter-widgets/base",
            "_model_module_version": "1.2.0",
            "_model_name": "LayoutModel",
            "_view_count": null,
            "_view_module": "@jupyter-widgets/base",
            "_view_module_version": "1.2.0",
            "_view_name": "LayoutView",
            "align_content": null,
            "align_items": null,
            "align_self": null,
            "border": null,
            "bottom": null,
            "display": null,
            "flex": null,
            "flex_flow": null,
            "grid_area": null,
            "grid_auto_columns": null,
            "grid_auto_flow": null,
            "grid_auto_rows": null,
            "grid_column": null,
            "grid_gap": null,
            "grid_row": null,
            "grid_template_areas": null,
            "grid_template_columns": null,
            "grid_template_rows": null,
            "height": null,
            "justify_content": null,
            "justify_items": null,
            "left": null,
            "margin": null,
            "max_height": null,
            "max_width": null,
            "min_height": null,
            "min_width": null,
            "object_fit": null,
            "object_position": null,
            "order": null,
            "overflow": null,
            "overflow_x": null,
            "overflow_y": null,
            "padding": null,
            "right": null,
            "top": null,
            "visibility": null,
            "width": null
          }
        },
        "f585fc7276274786ac2956c0a4ad439d": {
          "model_module": "@jupyter-widgets/controls",
          "model_name": "DescriptionStyleModel",
          "model_module_version": "1.5.0",
          "state": {
            "_model_module": "@jupyter-widgets/controls",
            "_model_module_version": "1.5.0",
            "_model_name": "DescriptionStyleModel",
            "_view_count": null,
            "_view_module": "@jupyter-widgets/base",
            "_view_module_version": "1.2.0",
            "_view_name": "StyleView",
            "description_width": ""
          }
        }
      }
    }
  },
  "nbformat": 4,
  "nbformat_minor": 0
}